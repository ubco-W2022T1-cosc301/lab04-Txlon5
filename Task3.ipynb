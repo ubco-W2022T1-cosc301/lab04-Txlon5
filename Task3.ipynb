{
 "cells": [
  {
   "cell_type": "markdown",
   "metadata": {},
   "source": [
    "# Task 3 - Dictionaries, Lists and data manipulation\n",
    "\n",
    "In this part we explore another fundamental data structure in python, called Dictionaries."
   ]
  },
  {
   "cell_type": "markdown",
   "metadata": {},
   "source": [
    "### 3.1: Create a dictionary that has 3 keys: name, age and salary, and enter in the following dummy information.\n",
    "\n",
    "#### Sample output\n",
    "> {'name': 'Jeff Bezos', 'age': 57, 'salary': 6746563247.0}"
   ]
  },
  {
   "cell_type": "code",
   "execution_count": 1,
   "metadata": {},
   "outputs": [],
   "source": [
    "### Your solution here"
   ]
  },
  {
   "cell_type": "markdown",
   "metadata": {},
   "source": [
    "### 3.2: Create a second dictionary, this time with at least 5 different names, ages, and salaries.\n",
    "\n",
    "*Hint: There should only be three keys, and the values should be a list.*\n",
    "\n",
    "#### Sample Output\n",
    "\n",
    "> {'name': ['Jeff Bezos', 'Person 2', 'Person 3'],\n",
    "> 'age': [59, 24, 40],\n",
    "> 'salary': [30000000.0, 200000.0, 900000.0]}"
   ]
  },
  {
   "cell_type": "code",
   "execution_count": 2,
   "metadata": {},
   "outputs": [],
   "source": [
    "### Your solution here"
   ]
  },
  {
   "cell_type": "markdown",
   "metadata": {},
   "source": [
    "### 3.3: Write python code that takes a string text and calculates the frequency of each character.\n",
    "\n",
    "text = \"\"\"Elephants are mammals of the family Elephantidae and the largest existing land animals. Three species are currently recognised: the African bush elephant, the African forest elephant, and the Asian elephant. Elephantidae is the only surviving family of the order Proboscidea; extinct members include the mastodons. The family Elephantidae also contains several now-extinct groups, including the mammoths and straight-tusked elephants. African elephants have larger ears and concave backs, whereas Asian elephants have smaller ears, and convex or level backs. Distinctive features of all elephants include a long trunk, tusks, large ear flaps, massive legs, and tough but sensitive skin. The trunk, also called a proboscis, is used for breathing, bringing food and water to the mouth, and grasping objects. Tusks, which are derived from the incisor teeth, serve both as weapons and as tools for moving objects and digging. The large ear flaps assist in maintaining a constant body temperature as well as in communication. The pillar-like legs carry their great weight. Elephants are scattered throughout sub-Saharan Africa, South Asia, and Southeast Asia and are found in different habitats, including savannahs, forests, deserts, and marshes. They are herbivorous, and they stay near water when it is accessible. They are considered to be keystone species, due to their impact on their environments.[1] Other animals tend to keep their distance from elephants; the exception is their predators such as lions, tigers, hyenas, and wild dogs, which usually target only young elephants (calves). Elephants have a fission–fusion society, in which multiple family groups come together to socialise. Females (cows) tend to live in family groups, which can consist of one female with her calves or several related females with offspring. The groups, which do not include bulls, are led by the (usually) oldest cow, known as the matriarch.\"\"\"\n",
    "\n",
    "*Hint: There are many ways to do this, the most \"elegant\" way uses a mixture of sets, and the `Counter` modules from [`collections`](https://docs.python.org/3/library/collections.html#counter-objects)*. I've linked to the documentation so you can learn how to use it\n",
    "\n",
    "#### Sample output:\n",
    "\n",
    ">' ': Count of 293 and Percentage of 15.2%<br>\n",
    ">'(': Count of 3 and Percentage of 0.2%<br>\n",
    ">')': Count of 3 and Percentage of 0.2%<br>\n",
    ">',': Count of 32 and Percentage of 1.7%<br>\n",
    ">'-': Count of 4 and Percentage of 0.2%<br>\n",
    ">'.': Count of 17 and Percentage of 0.9%<br>\n",
    ">'1': Count of 1 and Percentage of 0.1%<br>\n",
    ">':': Count of 1 and Percentage of 0.1%<br>\n",
    ">';': Count of 2 and Percentage of 0.1%<br>\n",
    ">'A': Count of 8 and Percentage of 0.4%<br>\n",
    ">'D': Count of 1 and Percentage of 0.1%<br>\n",
    ">'E': Count of 6 and Percentage of 0.3%<br>\n",
    ">'F': Count of 1 and Percentage of 0.1%<br>\n",
    ">'O': Count of 1 and Percentage of 0.1%<br>\n",
    ">'P': Count of 1 and Percentage of 0.1%<br>\n",
    ">'S': Count of 3 and Percentage of 0.2%<br>\n",
    ">'T': Count of 9 and Percentage of 0.5%<br>\n",
    ">'[': Count of 1 and Percentage of 0.1%<br>\n",
    ">']': Count of 1 and Percentage of 0.1%<br>\n",
    ">'a': Count of 147 and Percentage of 7.6%<br>\n",
    ">'b': Count of 20 and Percentage of 1.0%<br>\n",
    ">'c': Count of 55 and Percentage of 2.8%<br>\n",
    ">'d': Count of 53 and Percentage of 2.7%<br>\n",
    ">'e': Count of 189 and Percentage of 9.8%<br>\n",
    ">'f': Count of 32 and Percentage of 1.7%<br>\n",
    ">'g': Count of 37 and Percentage of 1.9%<br>\n",
    ">'h': Count of 84 and Percentage of 4.4%<br>\n",
    ">'i': Count of 109 and Percentage of 5.6%<br>\n",
    ">'j': Count of 2 and Percentage of 0.1%<br>\n",
    ">'k': Count of 12 and Percentage of 0.6%<br>\n",
    ">'l': Count of 80 and Percentage of 4.1%<br>\n",
    ">'m': Count of 35 and Percentage of 1.8%<br>\n",
    ">'n': Count of 114 and Percentage of 5.9%<br>\n",
    ">'o': Count of 87 and Percentage of 4.5%<br>\n",
    ">'p': Count of 34 and Percentage of 1.8%<br>\n",
    ">'r': Count of 92 and Percentage of 4.8%<br>\n",
    ">'s': Count of 131 and Percentage of 6.8%<br>\n",
    ">'t': Count of 120 and Percentage of 6.2%<br>\n",
    ">'u': Count of 41 and Percentage of 2.1%<br>\n",
    ">'v': Count of 22 and Percentage of 1.1%<br>\n",
    ">'w': Count of 19 and Percentage of 1.0%<br>\n",
    ">'x': Count of 5 and Percentage of 0.3%<br>\n",
    ">'y': Count of 21 and Percentage of 1.1%<br>\n",
    ">'–': Count of 1 and Percentage of 0.1%<br>"
   ]
  },
  {
   "cell_type": "code",
   "execution_count": null,
   "metadata": {},
   "outputs": [],
   "source": [
    "text = \"\"\"Elephants are mammals of the family Elephantidae and the largest existing land animals. Three species are currently recognised: the African bush elephant, the African forest elephant, and the Asian elephant. Elephantidae is the only surviving family of the order Proboscidea; extinct members include the mastodons. The family Elephantidae also contains several now-extinct groups, including the mammoths and straight-tusked elephants. African elephants have larger ears and concave backs, whereas Asian elephants have smaller ears, and convex or level backs. Distinctive features of all elephants include a long trunk, tusks, large ear flaps, massive legs, and tough but sensitive skin. The trunk, also called a proboscis, is used for breathing, bringing food and water to the mouth, and grasping objects. Tusks, which are derived from the incisor teeth, serve both as weapons and as tools for moving objects and digging. The large ear flaps assist in maintaining a constant body temperature as well as in communication. The pillar-like legs carry their great weight. Elephants are scattered throughout sub-Saharan Africa, South Asia, and Southeast Asia and are found in different habitats, including savannahs, forests, deserts, and marshes. They are herbivorous, and they stay near water when it is accessible. They are considered to be keystone species, due to their impact on their environments.[1] Other animals tend to keep their distance from elephants; the exception is their predators such as lions, tigers, hyenas, and wild dogs, which usually target only young elephants (calves). Elephants have a fission–fusion society, in which multiple family groups come together to socialise. Females (cows) tend to live in family groups, which can consist of one female with her calves or several related females with offspring. The groups, which do not include bulls, are led by the (usually) oldest cow, known as the matriarch.\"\"\"\n",
    "\n",
    "### Your solution here"
   ]
  }
 ],
 "metadata": {
  "interpreter": {
   "hash": "31f2aee4e71d21fbe5cf8b01ff0e069b9275f58929596ceb00d14d90e3e16cd6"
  },
  "kernelspec": {
   "display_name": "Python 3",
   "language": "python",
   "name": "python3"
  },
  "language_info": {
   "codemirror_mode": {
    "name": "ipython",
    "version": 3
   },
   "file_extension": ".py",
   "mimetype": "text/x-python",
   "name": "python",
   "nbconvert_exporter": "python",
   "pygments_lexer": "ipython3",
   "version": "3.9.12"
  },
  "nteract": {
   "version": "0.25.0"
  }
 },
 "nbformat": 4,
 "nbformat_minor": 4
}
