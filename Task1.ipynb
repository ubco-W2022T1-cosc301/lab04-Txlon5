{
 "cells": [
  {
   "cell_type": "markdown",
   "metadata": {},
   "source": [
    "# Task 1 - Introduction to Python\n",
    "\n",
    "In this lab you will be working on python basics.\n",
    "\n",
    "I have recorded a video to get you started with this lab: [Click here to view the video](https://vimeo.com/570824958).\n",
    "The lab is slightly different and updated, but the idea is very similar.\n",
    "\n",
    "**This lab must be completed individually.**\n",
    "\n",
    "Where provided, try your best to match the **Sample Output** as best as you can.\n",
    "\n",
    "## Accept the lab\n",
    " \n",
    "To accept this lab on GitHub Classroom, go to `Canvas` --> `Course Content` --> `GitHub Classroom Links`."
   ]
  },
  {
   "cell_type": "markdown",
   "metadata": {
    "tags": []
   },
   "source": [
    "## Objectives\n",
    "\n",
    "1. Practice Python loops and conditions\n",
    "2. Practice Python lists and dictionaries\n",
    "3. Practice string manipulation in Python\n",
    "4. Practice importing and using the Pandas module"
   ]
  },
  {
   "cell_type": "markdown",
   "metadata": {
    "tags": []
   },
   "source": [
    "## Task 1: Python Fundamentals I\n",
    "\n",
    "The following problems are practice problems that will help you learn some basic python syntax.\n",
    "They have been adapted from [Tomas Beuzen's Python Programming for Data Science textbook here](https://www.tomasbeuzen.com/python-programming-for-data-science/practice-exercises/chapter1-basics-practice.html) under a Creative Commons license.\n",
    "\n",
    "The solutions to the problems are available at the link, but I encourage you to try doing the problems on your own before you check the solutions! "
   ]
  },
  {
   "cell_type": "markdown",
   "metadata": {},
   "source": [
    "### 1.1 Splitting Strings"
   ]
  },
  {
   "cell_type": "markdown",
   "metadata": {},
   "source": [
    "Split the following string into a list by splitting on the space character:"
   ]
  },
  {
   "cell_type": "code",
   "execution_count": 93,
   "metadata": {},
   "outputs": [
    {
     "name": "stdout",
     "output_type": "stream",
     "text": [
      "['Learning', 'Python', 'is', 'so', 'much', 'fun!']\n"
     ]
    }
   ],
   "source": [
    "s = \"Learning Python is so much fun!\"\n",
    "\n",
    "# Your answer here.\n",
    "print(f\"{s.split(' ')}\")"
   ]
  },
  {
   "cell_type": "markdown",
   "metadata": {},
   "source": [
    "### 1.2 Substitutions with F-strings"
   ]
  },
  {
   "cell_type": "markdown",
   "metadata": {},
   "source": [
    "Given the following variables:\n",
    "\n",
    "```\n",
    "thing = \"light\"\n",
    "speed = 299792458  # m/s\n",
    "```\n",
    "\n",
    "Use f-strings to print:\n",
    "\n",
    "```\n",
    "The speed of light is 2.997925e+08 m/s.\n",
    "```"
   ]
  },
  {
   "cell_type": "code",
   "execution_count": 94,
   "metadata": {},
   "outputs": [
    {
     "name": "stdout",
     "output_type": "stream",
     "text": [
      "The speed of 2.997925e+08 m/s\n"
     ]
    }
   ],
   "source": [
    "thing = \"light\"\n",
    "speed = 299792458  # m/s\n",
    "\n",
    "# Your answer here.\n",
    "print(f\"The speed of {speed:e} m/s\")"
   ]
  },
  {
   "cell_type": "markdown",
   "metadata": {},
   "source": [
    "### 1.3 List Indexing"
   ]
  },
  {
   "cell_type": "markdown",
   "metadata": {},
   "source": [
    "Given this nested list, use indexing to grab the word \"COSC301\":\n",
    "\n",
    "```\n",
    "l = [10, [3, 4], [5, [100, 200], [23, [\"COSC301\"], 27], 11], 1, 7]\n",
    "```"
   ]
  },
  {
   "cell_type": "code",
   "execution_count": 95,
   "metadata": {},
   "outputs": [
    {
     "name": "stdout",
     "output_type": "stream",
     "text": [
      "COSC301\n"
     ]
    }
   ],
   "source": [
    "l = [10, [3, 4], [5, [100, 200], [23, [\"COSC301\"], 27], 11], 1, 7]\n",
    "\n",
    "# Your answer here.\n",
    "print(l[2][2][1][0])"
   ]
  },
  {
   "cell_type": "markdown",
   "metadata": {},
   "source": [
    "### 1.4 Dictionary Indexing"
   ]
  },
  {
   "cell_type": "markdown",
   "metadata": {},
   "source": [
    "Given this nest dictionary grab the word \"COSC 301\":\n",
    "\n",
    "```\n",
    "d = {\n",
    "    \"outer\": [\n",
    "        1,\n",
    "        2,\n",
    "        3,\n",
    "        {\"inner\": [\"this\", \"is\", \"inception\", {\"inner_inner\": [a, b, c, \"COSC 301\", 1, 2, 3]}]},\n",
    "    ]\n",
    "}\n",
    "```"
   ]
  },
  {
   "cell_type": "code",
   "execution_count": 96,
   "metadata": {},
   "outputs": [],
   "source": [
    "d = {\n",
    "    \"outer\": [\n",
    "        1,\n",
    "        2,\n",
    "        3,\n",
    "        {\"inner\": [\"this\", \"is\", \"inception\", {\"inner_inner\":  ['a', 'b', 'c', \"DATA 301\", 1, 2, 3]}]},\n",
    "    ]\n",
    "}"
   ]
  },
  {
   "cell_type": "code",
   "execution_count": 97,
   "metadata": {},
   "outputs": [
    {
     "name": "stdout",
     "output_type": "stream",
     "text": [
      "DATA 301\n"
     ]
    }
   ],
   "source": [
    "# Your answer here.\n",
    "print(d[\"outer\"][3][\"inner\"][3]['inner_inner'][3])"
   ]
  },
  {
   "cell_type": "markdown",
   "metadata": {},
   "source": [
    "### 1.5 Conditional Statements"
   ]
  },
  {
   "cell_type": "markdown",
   "metadata": {},
   "source": [
    "Given the variable `language` which contains a string, use `if/elif/else` to write a program that:\n",
    "- return \"I love coffee!\" if `language` is `\"java\"` (any kind of capitalization)\n",
    "- return \"Are you a snake?\" if `language` is `\"python\"` (any kind of capitalization)\n",
    "- else return \"What is `language`?\" if `language` is anything else."
   ]
  },
  {
   "cell_type": "code",
   "execution_count": 98,
   "metadata": {},
   "outputs": [
    {
     "name": "stdout",
     "output_type": "stream",
     "text": [
      "I love coffee!\n"
     ]
    }
   ],
   "source": [
    "language = \"java\"\n",
    "\n",
    "# Your answer here.\n",
    "if language.lower() == \"java\":\n",
    "    print(\"I love coffee!\")\n",
    "elif language.lower() == \"python\":\n",
    "    print(\"Are you a snake?\")\n",
    "else:\n",
    "    print(\"What is %s?\" % language)"
   ]
  }
 ],
 "metadata": {
  "interpreter": {
   "hash": "31f2aee4e71d21fbe5cf8b01ff0e069b9275f58929596ceb00d14d90e3e16cd6"
  },
  "kernelspec": {
   "display_name": "Python 3",
   "language": "python",
   "name": "python3"
  },
  "language_info": {
   "codemirror_mode": {
    "name": "ipython",
    "version": 3
   },
   "file_extension": ".py",
   "mimetype": "text/x-python",
   "name": "python",
   "nbconvert_exporter": "python",
   "pygments_lexer": "ipython3",
   "version": "3.9.6"
  },
  "nteract": {
   "version": "0.25.0"
  }
 },
 "nbformat": 4,
 "nbformat_minor": 4
}
